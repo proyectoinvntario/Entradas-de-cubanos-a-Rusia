{
 "cells": [
  {
   "cell_type": "markdown",
   "metadata": {},
   "source": [
    "# Entradas de cubanos a Rusia 2010-2018"
   ]
  },
  {
   "cell_type": "code",
   "execution_count": 150,
   "metadata": {},
   "outputs": [],
   "source": [
    "import pandas as pd"
   ]
  },
  {
   "cell_type": "markdown",
   "metadata": {},
   "source": [
    "## Fuente\n",
    "#### Fuente: Sistema de Información Estadístico Interdepartamental Unificado\n",
    "#### URL del servicio:  https://www.fedstat.ru\n",
    "#### Nombre del conjunto de datos fuente: Entrada de ciudadanos extranjeros a la Federación Rusa\n",
    "#### URL de los datos: https://www.fedstat.ru/indicator/38479#"
   ]
  },
  {
   "cell_type": "markdown",
   "metadata": {},
   "source": [
    "**Traducción automática de la descripción del servicio tomada de su sitio web:**\n",
    "\n",
    "El Sistema de Información Estadístico Interdepartamental Unificado se desarrolló en el marco de la implementación del programa federal de objetivos \"Desarrollo de las estadísticas estatales de Rusia en 2007-2011\".\n",
    "\n",
    "El propósito del Sistema es proporcionar acceso a información estadística oficial, incluidos los metadatos generados de acuerdo con el plan de trabajo estadístico federal, utilizando la Internet de los organismos estatales, los gobiernos locales, las entidades legales y las personas.\n",
    "\n",
    "El Sistema es un recurso de información estatal que combina los recursos oficiales de información estadística estatal formados por los sujetos de la contabilidad estadística oficial como parte de la implementación del plan de trabajo estadístico federal.\n",
    "\n",
    "El acceso a la información estadística oficial incluida en los recursos estadísticos incluidos en el sistema interdepartamental es gratuito y no discriminatorio.\n",
    "\n",
    "El sistema fue encargado por una orden conjunta del Ministerio de Comunicaciones y Medios de Comunicación de Rusia y Rosstat del 16 de noviembre de 2011.\n",
    "No. 318/461 .\n",
    "\n",
    "El servicio está coordinado por el Servicio de Estadísticas del Estado Federal. "
   ]
  },
  {
   "cell_type": "markdown",
   "metadata": {},
   "source": [
    "### Campos originales\n",
    "Nombres originales en ruso de cada campo, como aparecen en la fuente (junto a la traducción). Todos suenan bastante comprensibles menos el de \"Asistente de vehículos\". Estoy consultando con un periodista ruso, a ver si ayuda a entender qué es. Ustedes pueden usar el texto en ruso para verificar con alguien que hable ruso y/o conozca el sistema de reporte de entradas en Rusia.\n",
    "\n",
    "* Negocios - деловая\n",
    "* Turismo - туризм\n",
    "* Privado - частная\n",
    "* Tránsito - транзитный проезд\n",
    "* Cambio de residencia permanente - переезд на постоянное место жительства\n",
    "* Asistentes de vehículos - обслуживающий персонал транспортных средств"
   ]
  },
  {
   "cell_type": "code",
   "execution_count": 194,
   "metadata": {},
   "outputs": [],
   "source": [
    "cubanosRusia = pd.read_csv('Cubanos en Rusia para El Toque - Motivo de viaje.csv')"
   ]
  },
  {
   "cell_type": "code",
   "execution_count": 197,
   "metadata": {},
   "outputs": [],
   "source": [
    "cubanosRusia['Total Trimestre'] = cubanosRusia[['Negocio', 'Turismo', 'Privado',\n",
    "             'Tránsito', 'Cambio de residencia permanente',\n",
    "             'Asistentes de vehículos']].sum(axis=1)"
   ]
  },
  {
   "cell_type": "code",
   "execution_count": 202,
   "metadata": {},
   "outputs": [],
   "source": [
    "cubanosRusia['Trimestres'] = cubanosRusia['Año'].map(str) + cubanosRusia['Trimestre']"
   ]
  },
  {
   "cell_type": "code",
   "execution_count": 205,
   "metadata": {},
   "outputs": [
    {
     "data": {
      "text/plain": [
       "Index(['Año', 'Trimestre', 'Negocio', 'Turismo', 'Privado', 'Tránsito',\n",
       "       'Cambio de residencia permanente', 'Asistentes de vehículos', 'Total',\n",
       "       'Trimestres'],\n",
       "      dtype='object')"
      ]
     },
     "execution_count": 205,
     "metadata": {},
     "output_type": "execute_result"
    }
   ],
   "source": [
    "cubanosRusia.columns"
   ]
  },
  {
   "cell_type": "markdown",
   "metadata": {},
   "source": [
    "# Datos según motivo del viaje"
   ]
  },
  {
   "cell_type": "markdown",
   "metadata": {},
   "source": [
    "## Cifras trimestrales"
   ]
  },
  {
   "cell_type": "code",
   "execution_count": 206,
   "metadata": {},
   "outputs": [
    {
     "data": {
      "text/html": [
       "<div>\n",
       "<style scoped>\n",
       "    .dataframe tbody tr th:only-of-type {\n",
       "        vertical-align: middle;\n",
       "    }\n",
       "\n",
       "    .dataframe tbody tr th {\n",
       "        vertical-align: top;\n",
       "    }\n",
       "\n",
       "    .dataframe thead th {\n",
       "        text-align: right;\n",
       "    }\n",
       "</style>\n",
       "<table border=\"1\" class=\"dataframe\">\n",
       "  <thead>\n",
       "    <tr style=\"text-align: right;\">\n",
       "      <th></th>\n",
       "      <th>Año</th>\n",
       "      <th>Trimestre</th>\n",
       "      <th>Negocio</th>\n",
       "      <th>Turismo</th>\n",
       "      <th>Privado</th>\n",
       "      <th>Tránsito</th>\n",
       "      <th>Cambio de residencia permanente</th>\n",
       "      <th>Asistentes de vehículos</th>\n",
       "      <th>Total</th>\n",
       "      <th>Trimestres</th>\n",
       "    </tr>\n",
       "  </thead>\n",
       "  <tbody>\n",
       "    <tr>\n",
       "      <th>0</th>\n",
       "      <td>2010</td>\n",
       "      <td>T1</td>\n",
       "      <td>289</td>\n",
       "      <td>106</td>\n",
       "      <td>210</td>\n",
       "      <td>12</td>\n",
       "      <td>0</td>\n",
       "      <td>88</td>\n",
       "      <td>705</td>\n",
       "      <td>2010T1</td>\n",
       "    </tr>\n",
       "    <tr>\n",
       "      <th>1</th>\n",
       "      <td>2010</td>\n",
       "      <td>T2</td>\n",
       "      <td>351</td>\n",
       "      <td>273</td>\n",
       "      <td>335</td>\n",
       "      <td>25</td>\n",
       "      <td>0</td>\n",
       "      <td>117</td>\n",
       "      <td>1101</td>\n",
       "      <td>2010T2</td>\n",
       "    </tr>\n",
       "    <tr>\n",
       "      <th>2</th>\n",
       "      <td>2010</td>\n",
       "      <td>T3</td>\n",
       "      <td>369</td>\n",
       "      <td>364</td>\n",
       "      <td>322</td>\n",
       "      <td>53</td>\n",
       "      <td>0</td>\n",
       "      <td>98</td>\n",
       "      <td>1206</td>\n",
       "      <td>2010T3</td>\n",
       "    </tr>\n",
       "    <tr>\n",
       "      <th>3</th>\n",
       "      <td>2010</td>\n",
       "      <td>T4</td>\n",
       "      <td>352</td>\n",
       "      <td>364</td>\n",
       "      <td>279</td>\n",
       "      <td>17</td>\n",
       "      <td>0</td>\n",
       "      <td>29</td>\n",
       "      <td>1041</td>\n",
       "      <td>2010T4</td>\n",
       "    </tr>\n",
       "    <tr>\n",
       "      <th>4</th>\n",
       "      <td>2011</td>\n",
       "      <td>T1</td>\n",
       "      <td>231</td>\n",
       "      <td>219</td>\n",
       "      <td>204</td>\n",
       "      <td>36</td>\n",
       "      <td>0</td>\n",
       "      <td>7</td>\n",
       "      <td>697</td>\n",
       "      <td>2011T1</td>\n",
       "    </tr>\n",
       "    <tr>\n",
       "      <th>5</th>\n",
       "      <td>2011</td>\n",
       "      <td>T2</td>\n",
       "      <td>279</td>\n",
       "      <td>424</td>\n",
       "      <td>265</td>\n",
       "      <td>25</td>\n",
       "      <td>0</td>\n",
       "      <td>103</td>\n",
       "      <td>1096</td>\n",
       "      <td>2011T2</td>\n",
       "    </tr>\n",
       "    <tr>\n",
       "      <th>6</th>\n",
       "      <td>2011</td>\n",
       "      <td>T3</td>\n",
       "      <td>290</td>\n",
       "      <td>517</td>\n",
       "      <td>261</td>\n",
       "      <td>7</td>\n",
       "      <td>2</td>\n",
       "      <td>150</td>\n",
       "      <td>1227</td>\n",
       "      <td>2011T3</td>\n",
       "    </tr>\n",
       "    <tr>\n",
       "      <th>7</th>\n",
       "      <td>2011</td>\n",
       "      <td>T4</td>\n",
       "      <td>296</td>\n",
       "      <td>412</td>\n",
       "      <td>280</td>\n",
       "      <td>28</td>\n",
       "      <td>0</td>\n",
       "      <td>63</td>\n",
       "      <td>1079</td>\n",
       "      <td>2011T4</td>\n",
       "    </tr>\n",
       "    <tr>\n",
       "      <th>8</th>\n",
       "      <td>2012</td>\n",
       "      <td>T1</td>\n",
       "      <td>242</td>\n",
       "      <td>379</td>\n",
       "      <td>256</td>\n",
       "      <td>10</td>\n",
       "      <td>1</td>\n",
       "      <td>29</td>\n",
       "      <td>917</td>\n",
       "      <td>2012T1</td>\n",
       "    </tr>\n",
       "    <tr>\n",
       "      <th>9</th>\n",
       "      <td>2012</td>\n",
       "      <td>T2</td>\n",
       "      <td>276</td>\n",
       "      <td>695</td>\n",
       "      <td>329</td>\n",
       "      <td>16</td>\n",
       "      <td>0</td>\n",
       "      <td>101</td>\n",
       "      <td>1417</td>\n",
       "      <td>2012T2</td>\n",
       "    </tr>\n",
       "    <tr>\n",
       "      <th>10</th>\n",
       "      <td>2012</td>\n",
       "      <td>T3</td>\n",
       "      <td>396</td>\n",
       "      <td>736</td>\n",
       "      <td>336</td>\n",
       "      <td>21</td>\n",
       "      <td>3</td>\n",
       "      <td>60</td>\n",
       "      <td>1552</td>\n",
       "      <td>2012T3</td>\n",
       "    </tr>\n",
       "    <tr>\n",
       "      <th>11</th>\n",
       "      <td>2012</td>\n",
       "      <td>T4</td>\n",
       "      <td>271</td>\n",
       "      <td>738</td>\n",
       "      <td>272</td>\n",
       "      <td>36</td>\n",
       "      <td>2</td>\n",
       "      <td>34</td>\n",
       "      <td>1353</td>\n",
       "      <td>2012T4</td>\n",
       "    </tr>\n",
       "    <tr>\n",
       "      <th>12</th>\n",
       "      <td>2013</td>\n",
       "      <td>T1</td>\n",
       "      <td>229</td>\n",
       "      <td>905</td>\n",
       "      <td>324</td>\n",
       "      <td>22</td>\n",
       "      <td>0</td>\n",
       "      <td>75</td>\n",
       "      <td>1555</td>\n",
       "      <td>2013T1</td>\n",
       "    </tr>\n",
       "    <tr>\n",
       "      <th>13</th>\n",
       "      <td>2013</td>\n",
       "      <td>T2</td>\n",
       "      <td>434</td>\n",
       "      <td>1385</td>\n",
       "      <td>387</td>\n",
       "      <td>28</td>\n",
       "      <td>0</td>\n",
       "      <td>51</td>\n",
       "      <td>2285</td>\n",
       "      <td>2013T2</td>\n",
       "    </tr>\n",
       "    <tr>\n",
       "      <th>14</th>\n",
       "      <td>2013</td>\n",
       "      <td>T3</td>\n",
       "      <td>408</td>\n",
       "      <td>1665</td>\n",
       "      <td>649</td>\n",
       "      <td>32</td>\n",
       "      <td>0</td>\n",
       "      <td>197</td>\n",
       "      <td>2951</td>\n",
       "      <td>2013T3</td>\n",
       "    </tr>\n",
       "    <tr>\n",
       "      <th>15</th>\n",
       "      <td>2013</td>\n",
       "      <td>T4</td>\n",
       "      <td>359</td>\n",
       "      <td>1705</td>\n",
       "      <td>630</td>\n",
       "      <td>37</td>\n",
       "      <td>0</td>\n",
       "      <td>103</td>\n",
       "      <td>2834</td>\n",
       "      <td>2013T4</td>\n",
       "    </tr>\n",
       "    <tr>\n",
       "      <th>16</th>\n",
       "      <td>2014</td>\n",
       "      <td>T1</td>\n",
       "      <td>240</td>\n",
       "      <td>1234</td>\n",
       "      <td>759</td>\n",
       "      <td>14</td>\n",
       "      <td>0</td>\n",
       "      <td>106</td>\n",
       "      <td>2353</td>\n",
       "      <td>2014T1</td>\n",
       "    </tr>\n",
       "    <tr>\n",
       "      <th>17</th>\n",
       "      <td>2014</td>\n",
       "      <td>T2</td>\n",
       "      <td>276</td>\n",
       "      <td>1752</td>\n",
       "      <td>1038</td>\n",
       "      <td>26</td>\n",
       "      <td>0</td>\n",
       "      <td>170</td>\n",
       "      <td>3262</td>\n",
       "      <td>2014T2</td>\n",
       "    </tr>\n",
       "    <tr>\n",
       "      <th>18</th>\n",
       "      <td>2014</td>\n",
       "      <td>T3</td>\n",
       "      <td>482</td>\n",
       "      <td>2156</td>\n",
       "      <td>634</td>\n",
       "      <td>42</td>\n",
       "      <td>0</td>\n",
       "      <td>78</td>\n",
       "      <td>3392</td>\n",
       "      <td>2014T3</td>\n",
       "    </tr>\n",
       "    <tr>\n",
       "      <th>19</th>\n",
       "      <td>2014</td>\n",
       "      <td>T4</td>\n",
       "      <td>327</td>\n",
       "      <td>1671</td>\n",
       "      <td>550</td>\n",
       "      <td>50</td>\n",
       "      <td>0</td>\n",
       "      <td>4</td>\n",
       "      <td>2602</td>\n",
       "      <td>2014T4</td>\n",
       "    </tr>\n",
       "    <tr>\n",
       "      <th>20</th>\n",
       "      <td>2015</td>\n",
       "      <td>T1</td>\n",
       "      <td>249</td>\n",
       "      <td>1495</td>\n",
       "      <td>213</td>\n",
       "      <td>46</td>\n",
       "      <td>0</td>\n",
       "      <td>63</td>\n",
       "      <td>2066</td>\n",
       "      <td>2015T1</td>\n",
       "    </tr>\n",
       "    <tr>\n",
       "      <th>21</th>\n",
       "      <td>2015</td>\n",
       "      <td>T2</td>\n",
       "      <td>579</td>\n",
       "      <td>2292</td>\n",
       "      <td>238</td>\n",
       "      <td>67</td>\n",
       "      <td>0</td>\n",
       "      <td>113</td>\n",
       "      <td>3289</td>\n",
       "      <td>2015T2</td>\n",
       "    </tr>\n",
       "    <tr>\n",
       "      <th>22</th>\n",
       "      <td>2015</td>\n",
       "      <td>T3</td>\n",
       "      <td>431</td>\n",
       "      <td>2528</td>\n",
       "      <td>433</td>\n",
       "      <td>75</td>\n",
       "      <td>0</td>\n",
       "      <td>6</td>\n",
       "      <td>3473</td>\n",
       "      <td>2015T3</td>\n",
       "    </tr>\n",
       "    <tr>\n",
       "      <th>23</th>\n",
       "      <td>2015</td>\n",
       "      <td>T4</td>\n",
       "      <td>448</td>\n",
       "      <td>2734</td>\n",
       "      <td>249</td>\n",
       "      <td>63</td>\n",
       "      <td>0</td>\n",
       "      <td>27</td>\n",
       "      <td>3521</td>\n",
       "      <td>2015T4</td>\n",
       "    </tr>\n",
       "    <tr>\n",
       "      <th>24</th>\n",
       "      <td>2016</td>\n",
       "      <td>T1</td>\n",
       "      <td>251</td>\n",
       "      <td>3983</td>\n",
       "      <td>230</td>\n",
       "      <td>32</td>\n",
       "      <td>0</td>\n",
       "      <td>55</td>\n",
       "      <td>4551</td>\n",
       "      <td>2016T1</td>\n",
       "    </tr>\n",
       "    <tr>\n",
       "      <th>25</th>\n",
       "      <td>2016</td>\n",
       "      <td>T2</td>\n",
       "      <td>489</td>\n",
       "      <td>8054</td>\n",
       "      <td>250</td>\n",
       "      <td>60</td>\n",
       "      <td>0</td>\n",
       "      <td>100</td>\n",
       "      <td>8953</td>\n",
       "      <td>2016T2</td>\n",
       "    </tr>\n",
       "    <tr>\n",
       "      <th>26</th>\n",
       "      <td>2016</td>\n",
       "      <td>T3</td>\n",
       "      <td>464</td>\n",
       "      <td>5521</td>\n",
       "      <td>345</td>\n",
       "      <td>66</td>\n",
       "      <td>0</td>\n",
       "      <td>60</td>\n",
       "      <td>6456</td>\n",
       "      <td>2016T3</td>\n",
       "    </tr>\n",
       "    <tr>\n",
       "      <th>27</th>\n",
       "      <td>2016</td>\n",
       "      <td>T4</td>\n",
       "      <td>443</td>\n",
       "      <td>5842</td>\n",
       "      <td>342</td>\n",
       "      <td>51</td>\n",
       "      <td>0</td>\n",
       "      <td>29</td>\n",
       "      <td>6707</td>\n",
       "      <td>2016T4</td>\n",
       "    </tr>\n",
       "    <tr>\n",
       "      <th>28</th>\n",
       "      <td>2017</td>\n",
       "      <td>T1</td>\n",
       "      <td>341</td>\n",
       "      <td>4899</td>\n",
       "      <td>244</td>\n",
       "      <td>32</td>\n",
       "      <td>0</td>\n",
       "      <td>74</td>\n",
       "      <td>5590</td>\n",
       "      <td>2017T1</td>\n",
       "    </tr>\n",
       "    <tr>\n",
       "      <th>29</th>\n",
       "      <td>2017</td>\n",
       "      <td>T2</td>\n",
       "      <td>586</td>\n",
       "      <td>7872</td>\n",
       "      <td>302</td>\n",
       "      <td>38</td>\n",
       "      <td>0</td>\n",
       "      <td>31</td>\n",
       "      <td>8829</td>\n",
       "      <td>2017T2</td>\n",
       "    </tr>\n",
       "    <tr>\n",
       "      <th>30</th>\n",
       "      <td>2017</td>\n",
       "      <td>T3</td>\n",
       "      <td>634</td>\n",
       "      <td>6882</td>\n",
       "      <td>525</td>\n",
       "      <td>72</td>\n",
       "      <td>0</td>\n",
       "      <td>22</td>\n",
       "      <td>8135</td>\n",
       "      <td>2017T3</td>\n",
       "    </tr>\n",
       "    <tr>\n",
       "      <th>31</th>\n",
       "      <td>2017</td>\n",
       "      <td>T4</td>\n",
       "      <td>629</td>\n",
       "      <td>6926</td>\n",
       "      <td>513</td>\n",
       "      <td>33</td>\n",
       "      <td>0</td>\n",
       "      <td>56</td>\n",
       "      <td>8157</td>\n",
       "      <td>2017T4</td>\n",
       "    </tr>\n",
       "    <tr>\n",
       "      <th>32</th>\n",
       "      <td>2018</td>\n",
       "      <td>T1</td>\n",
       "      <td>540</td>\n",
       "      <td>4560</td>\n",
       "      <td>212</td>\n",
       "      <td>31</td>\n",
       "      <td>0</td>\n",
       "      <td>60</td>\n",
       "      <td>5403</td>\n",
       "      <td>2018T1</td>\n",
       "    </tr>\n",
       "    <tr>\n",
       "      <th>33</th>\n",
       "      <td>2018</td>\n",
       "      <td>T2</td>\n",
       "      <td>748</td>\n",
       "      <td>5687</td>\n",
       "      <td>342</td>\n",
       "      <td>82</td>\n",
       "      <td>0</td>\n",
       "      <td>112</td>\n",
       "      <td>6971</td>\n",
       "      <td>2018T2</td>\n",
       "    </tr>\n",
       "    <tr>\n",
       "      <th>34</th>\n",
       "      <td>2018</td>\n",
       "      <td>T3</td>\n",
       "      <td>801</td>\n",
       "      <td>6130</td>\n",
       "      <td>525</td>\n",
       "      <td>89</td>\n",
       "      <td>0</td>\n",
       "      <td>30</td>\n",
       "      <td>7575</td>\n",
       "      <td>2018T3</td>\n",
       "    </tr>\n",
       "    <tr>\n",
       "      <th>35</th>\n",
       "      <td>2018</td>\n",
       "      <td>T4</td>\n",
       "      <td>875</td>\n",
       "      <td>6555</td>\n",
       "      <td>392</td>\n",
       "      <td>33</td>\n",
       "      <td>0</td>\n",
       "      <td>78</td>\n",
       "      <td>7933</td>\n",
       "      <td>2018T4</td>\n",
       "    </tr>\n",
       "  </tbody>\n",
       "</table>\n",
       "</div>"
      ],
      "text/plain": [
       "     Año Trimestre  Negocio  Turismo  Privado  Tránsito  \\\n",
       "0   2010        T1      289      106      210        12   \n",
       "1   2010        T2      351      273      335        25   \n",
       "2   2010        T3      369      364      322        53   \n",
       "3   2010        T4      352      364      279        17   \n",
       "4   2011        T1      231      219      204        36   \n",
       "5   2011        T2      279      424      265        25   \n",
       "6   2011        T3      290      517      261         7   \n",
       "7   2011        T4      296      412      280        28   \n",
       "8   2012        T1      242      379      256        10   \n",
       "9   2012        T2      276      695      329        16   \n",
       "10  2012        T3      396      736      336        21   \n",
       "11  2012        T4      271      738      272        36   \n",
       "12  2013        T1      229      905      324        22   \n",
       "13  2013        T2      434     1385      387        28   \n",
       "14  2013        T3      408     1665      649        32   \n",
       "15  2013        T4      359     1705      630        37   \n",
       "16  2014        T1      240     1234      759        14   \n",
       "17  2014        T2      276     1752     1038        26   \n",
       "18  2014        T3      482     2156      634        42   \n",
       "19  2014        T4      327     1671      550        50   \n",
       "20  2015        T1      249     1495      213        46   \n",
       "21  2015        T2      579     2292      238        67   \n",
       "22  2015        T3      431     2528      433        75   \n",
       "23  2015        T4      448     2734      249        63   \n",
       "24  2016        T1      251     3983      230        32   \n",
       "25  2016        T2      489     8054      250        60   \n",
       "26  2016        T3      464     5521      345        66   \n",
       "27  2016        T4      443     5842      342        51   \n",
       "28  2017        T1      341     4899      244        32   \n",
       "29  2017        T2      586     7872      302        38   \n",
       "30  2017        T3      634     6882      525        72   \n",
       "31  2017        T4      629     6926      513        33   \n",
       "32  2018        T1      540     4560      212        31   \n",
       "33  2018        T2      748     5687      342        82   \n",
       "34  2018        T3      801     6130      525        89   \n",
       "35  2018        T4      875     6555      392        33   \n",
       "\n",
       "    Cambio de residencia permanente  Asistentes de vehículos  Total Trimestres  \n",
       "0                                 0                       88    705     2010T1  \n",
       "1                                 0                      117   1101     2010T2  \n",
       "2                                 0                       98   1206     2010T3  \n",
       "3                                 0                       29   1041     2010T4  \n",
       "4                                 0                        7    697     2011T1  \n",
       "5                                 0                      103   1096     2011T2  \n",
       "6                                 2                      150   1227     2011T3  \n",
       "7                                 0                       63   1079     2011T4  \n",
       "8                                 1                       29    917     2012T1  \n",
       "9                                 0                      101   1417     2012T2  \n",
       "10                                3                       60   1552     2012T3  \n",
       "11                                2                       34   1353     2012T4  \n",
       "12                                0                       75   1555     2013T1  \n",
       "13                                0                       51   2285     2013T2  \n",
       "14                                0                      197   2951     2013T3  \n",
       "15                                0                      103   2834     2013T4  \n",
       "16                                0                      106   2353     2014T1  \n",
       "17                                0                      170   3262     2014T2  \n",
       "18                                0                       78   3392     2014T3  \n",
       "19                                0                        4   2602     2014T4  \n",
       "20                                0                       63   2066     2015T1  \n",
       "21                                0                      113   3289     2015T2  \n",
       "22                                0                        6   3473     2015T3  \n",
       "23                                0                       27   3521     2015T4  \n",
       "24                                0                       55   4551     2016T1  \n",
       "25                                0                      100   8953     2016T2  \n",
       "26                                0                       60   6456     2016T3  \n",
       "27                                0                       29   6707     2016T4  \n",
       "28                                0                       74   5590     2017T1  \n",
       "29                                0                       31   8829     2017T2  \n",
       "30                                0                       22   8135     2017T3  \n",
       "31                                0                       56   8157     2017T4  \n",
       "32                                0                       60   5403     2018T1  \n",
       "33                                0                      112   6971     2018T2  \n",
       "34                                0                       30   7575     2018T3  \n",
       "35                                0                       78   7933     2018T4  "
      ]
     },
     "execution_count": 206,
     "metadata": {},
     "output_type": "execute_result"
    }
   ],
   "source": [
    "cubanosRusia"
   ]
  },
  {
   "cell_type": "markdown",
   "metadata": {},
   "source": [
    "# Turismo"
   ]
  },
  {
   "cell_type": "code",
   "execution_count": 207,
   "metadata": {},
   "outputs": [
    {
     "data": {
      "text/plain": [
       "<matplotlib.axes._subplots.AxesSubplot at 0x1ddc35939b0>"
      ]
     },
     "execution_count": 207,
     "metadata": {},
     "output_type": "execute_result"
    },
    {
     "data": {
      "image/png": "[encoded data removed]",
      "text/plain": [
       "<Figure size 1440x720 with 1 Axes>"
      ]
     },
     "metadata": {
      "needs_background": "light"
     },
     "output_type": "display_data"
    }
   ],
   "source": [
    "cubanosRusia.plot.bar(x='Trimestres', y='Turismo', figsize=(20,10), grid=True, colormap='Paired')"
   ]
  },
  {
   "cell_type": "markdown",
   "metadata": {},
   "source": [
    "## Otros motivos de viaje (con niveles menores a los de Turismo)"
   ]
  },
  {
   "cell_type": "code",
   "execution_count": 209,
   "metadata": {},
   "outputs": [
    {
     "data": {
      "text/plain": [
       "array([<matplotlib.axes._subplots.AxesSubplot object at 0x000001DDC323D390>,\n",
       "       <matplotlib.axes._subplots.AxesSubplot object at 0x000001DDC325F898>,\n",
       "       <matplotlib.axes._subplots.AxesSubplot object at 0x000001DDC3889860>,\n",
       "       <matplotlib.axes._subplots.AxesSubplot object at 0x000001DDC38B2828>,\n",
       "       <matplotlib.axes._subplots.AxesSubplot object at 0x000001DDC38DC7F0>],\n",
       "      dtype=object)"
      ]
     },
     "execution_count": 209,
     "metadata": {},
     "output_type": "execute_result"
    },
    {
     "data": {
      "image/png": "[encoded data removed]",
      "text/plain": [
       "<Figure size 1440x1440 with 5 Axes>"
      ]
     },
     "metadata": {
      "needs_background": "light"
     },
     "output_type": "display_data"
    }
   ],
   "source": [
    "cubanosRusia.plot.bar(x='Trimestres', y=['Negocio', 'Privado', 'Tránsito',\n",
    "       'Cambio de residencia permanente', 'Asistentes de vehículos'], figsize=(20,20), grid=True, colormap='Paired', subplots=True, sharey=True)"
   ]
  },
  {
   "cell_type": "markdown",
   "metadata": {},
   "source": [
    "## Cifras anuales"
   ]
  },
  {
   "cell_type": "code",
   "execution_count": 212,
   "metadata": {},
   "outputs": [],
   "source": [
    "cifrasanuales = cubanosRusia.pivot_table(index='Año', values = ('Negocio', 'Turismo', 'Privado', 'Tránsito',\n",
    "       'Cambio de residencia permanente', 'Asistentes de vehículos', 'Total'), aggfunc = ['sum'])"
   ]
  },
  {
   "cell_type": "code",
   "execution_count": 213,
   "metadata": {},
   "outputs": [],
   "source": [
    "cifrasanuales['Año'] = cifrasanuales.index"
   ]
  },
  {
   "cell_type": "code",
   "execution_count": 214,
   "metadata": {},
   "outputs": [],
   "source": [
    "cifrasanuales.columns = ['Asistentes de vehículos', \n",
    "                         'Cambio de residencia permanente', \n",
    "                         'Negocio', 'Privado', 'Total Trimestre', 'Tránsito', 'Turismo', 'Año' ]"
   ]
  },
  {
   "cell_type": "code",
   "execution_count": 215,
   "metadata": {},
   "outputs": [],
   "source": [
    "cifrasanuales = cifrasanuales[['Año', 'Negocio', 'Privado','Tránsito', 'Turismo', 'Asistentes de vehículos', 'Cambio de residencia permanente',  'Total Trimestre' ]]"
   ]
  },
  {
   "cell_type": "code",
   "execution_count": 216,
   "metadata": {},
   "outputs": [],
   "source": [
    "cifrasanuales = cifrasanuales.rename(columns={'Total Trimestre': 'Total Anual'})"
   ]
  },
  {
   "cell_type": "code",
   "execution_count": 217,
   "metadata": {},
   "outputs": [
    {
     "data": {
      "text/plain": [
       "Index(['Año', 'Negocio', 'Privado', 'Tránsito', 'Turismo',\n",
       "       'Asistentes de vehículos', 'Cambio de residencia permanente',\n",
       "       'Total Anual'],\n",
       "      dtype='object')"
      ]
     },
     "execution_count": 217,
     "metadata": {},
     "output_type": "execute_result"
    }
   ],
   "source": [
    "cifrasanuales.columns"
   ]
  },
  {
   "cell_type": "code",
   "execution_count": 237,
   "metadata": {},
   "outputs": [
    {
     "data": {
      "text/html": [
       "<div>\n",
       "<style scoped>\n",
       "    .dataframe tbody tr th:only-of-type {\n",
       "        vertical-align: middle;\n",
       "    }\n",
       "\n",
       "    .dataframe tbody tr th {\n",
       "        vertical-align: top;\n",
       "    }\n",
       "\n",
       "    .dataframe thead th {\n",
       "        text-align: right;\n",
       "    }\n",
       "</style>\n",
       "<table border=\"1\" class=\"dataframe\">\n",
       "  <thead>\n",
       "    <tr style=\"text-align: right;\">\n",
       "      <th></th>\n",
       "      <th>Año</th>\n",
       "      <th>Negocio</th>\n",
       "      <th>Privado</th>\n",
       "      <th>Tránsito</th>\n",
       "      <th>Turismo</th>\n",
       "      <th>Asistentes de vehículos</th>\n",
       "      <th>Cambio de residencia permanente</th>\n",
       "      <th>Total Anual</th>\n",
       "    </tr>\n",
       "    <tr>\n",
       "      <th>Año</th>\n",
       "      <th></th>\n",
       "      <th></th>\n",
       "      <th></th>\n",
       "      <th></th>\n",
       "      <th></th>\n",
       "      <th></th>\n",
       "      <th></th>\n",
       "      <th></th>\n",
       "    </tr>\n",
       "  </thead>\n",
       "  <tbody>\n",
       "    <tr>\n",
       "      <th>2010</th>\n",
       "      <td>2010</td>\n",
       "      <td>1361</td>\n",
       "      <td>1146</td>\n",
       "      <td>107</td>\n",
       "      <td>1107</td>\n",
       "      <td>332</td>\n",
       "      <td>0</td>\n",
       "      <td>4053</td>\n",
       "    </tr>\n",
       "    <tr>\n",
       "      <th>2011</th>\n",
       "      <td>2011</td>\n",
       "      <td>1096</td>\n",
       "      <td>1010</td>\n",
       "      <td>96</td>\n",
       "      <td>1572</td>\n",
       "      <td>323</td>\n",
       "      <td>2</td>\n",
       "      <td>4099</td>\n",
       "    </tr>\n",
       "    <tr>\n",
       "      <th>2012</th>\n",
       "      <td>2012</td>\n",
       "      <td>1185</td>\n",
       "      <td>1193</td>\n",
       "      <td>83</td>\n",
       "      <td>2548</td>\n",
       "      <td>224</td>\n",
       "      <td>6</td>\n",
       "      <td>5239</td>\n",
       "    </tr>\n",
       "    <tr>\n",
       "      <th>2013</th>\n",
       "      <td>2013</td>\n",
       "      <td>1430</td>\n",
       "      <td>1990</td>\n",
       "      <td>119</td>\n",
       "      <td>5660</td>\n",
       "      <td>426</td>\n",
       "      <td>0</td>\n",
       "      <td>9625</td>\n",
       "    </tr>\n",
       "    <tr>\n",
       "      <th>2014</th>\n",
       "      <td>2014</td>\n",
       "      <td>1325</td>\n",
       "      <td>2981</td>\n",
       "      <td>132</td>\n",
       "      <td>6813</td>\n",
       "      <td>358</td>\n",
       "      <td>0</td>\n",
       "      <td>11609</td>\n",
       "    </tr>\n",
       "    <tr>\n",
       "      <th>2015</th>\n",
       "      <td>2015</td>\n",
       "      <td>1707</td>\n",
       "      <td>1133</td>\n",
       "      <td>251</td>\n",
       "      <td>9049</td>\n",
       "      <td>209</td>\n",
       "      <td>0</td>\n",
       "      <td>12349</td>\n",
       "    </tr>\n",
       "    <tr>\n",
       "      <th>2016</th>\n",
       "      <td>2016</td>\n",
       "      <td>1647</td>\n",
       "      <td>1167</td>\n",
       "      <td>209</td>\n",
       "      <td>23400</td>\n",
       "      <td>244</td>\n",
       "      <td>0</td>\n",
       "      <td>26667</td>\n",
       "    </tr>\n",
       "    <tr>\n",
       "      <th>2017</th>\n",
       "      <td>2017</td>\n",
       "      <td>2190</td>\n",
       "      <td>1584</td>\n",
       "      <td>175</td>\n",
       "      <td>26579</td>\n",
       "      <td>183</td>\n",
       "      <td>0</td>\n",
       "      <td>30711</td>\n",
       "    </tr>\n",
       "    <tr>\n",
       "      <th>2018</th>\n",
       "      <td>2018</td>\n",
       "      <td>2964</td>\n",
       "      <td>1471</td>\n",
       "      <td>235</td>\n",
       "      <td>22932</td>\n",
       "      <td>280</td>\n",
       "      <td>0</td>\n",
       "      <td>27882</td>\n",
       "    </tr>\n",
       "  </tbody>\n",
       "</table>\n",
       "</div>"
      ],
      "text/plain": [
       "       Año  Negocio  Privado  Tránsito  Turismo  Asistentes de vehículos  \\\n",
       "Año                                                                        \n",
       "2010  2010     1361     1146       107     1107                      332   \n",
       "2011  2011     1096     1010        96     1572                      323   \n",
       "2012  2012     1185     1193        83     2548                      224   \n",
       "2013  2013     1430     1990       119     5660                      426   \n",
       "2014  2014     1325     2981       132     6813                      358   \n",
       "2015  2015     1707     1133       251     9049                      209   \n",
       "2016  2016     1647     1167       209    23400                      244   \n",
       "2017  2017     2190     1584       175    26579                      183   \n",
       "2018  2018     2964     1471       235    22932                      280   \n",
       "\n",
       "      Cambio de residencia permanente  Total Anual  \n",
       "Año                                                 \n",
       "2010                                0         4053  \n",
       "2011                                2         4099  \n",
       "2012                                6         5239  \n",
       "2013                                0         9625  \n",
       "2014                                0        11609  \n",
       "2015                                0        12349  \n",
       "2016                                0        26667  \n",
       "2017                                0        30711  \n",
       "2018                                0        27882  "
      ]
     },
     "execution_count": 237,
     "metadata": {},
     "output_type": "execute_result"
    }
   ],
   "source": [
    "cifrasanuales"
   ]
  },
  {
   "cell_type": "markdown",
   "metadata": {},
   "source": [
    "# Total"
   ]
  },
  {
   "cell_type": "code",
   "execution_count": 218,
   "metadata": {},
   "outputs": [
    {
     "data": {
      "text/plain": [
       "<matplotlib.axes._subplots.AxesSubplot at 0x1ddc456be48>"
      ]
     },
     "execution_count": 218,
     "metadata": {},
     "output_type": "execute_result"
    },
    {
     "data": {
      "image/png": "[encoded data removed]",
      "text/plain": [
       "<Figure size 1440x720 with 1 Axes>"
      ]
     },
     "metadata": {
      "needs_background": "light"
     },
     "output_type": "display_data"
    }
   ],
   "source": [
    "cifrasanuales.plot.bar(x='Año', y=['Negocio', 'Privado', 'Tránsito', 'Turismo',\n",
    "       'Asistentes de vehículos', 'Cambio de residencia permanente'], figsize=(20,10), grid=True, colormap='Paired', stacked=True)"
   ]
  },
  {
   "cell_type": "code",
   "execution_count": 219,
   "metadata": {},
   "outputs": [],
   "source": [
    "%matplotlib inline\n",
    "import matplotlib.pyplot as plt"
   ]
  },
  {
   "cell_type": "markdown",
   "metadata": {},
   "source": [
    "# Subdivididas por motivo de viaje"
   ]
  },
  {
   "cell_type": "markdown",
   "metadata": {},
   "source": [
    "## Turismo"
   ]
  },
  {
   "cell_type": "code",
   "execution_count": 220,
   "metadata": {},
   "outputs": [
    {
     "data": {
      "text/plain": [
       "<matplotlib.axes._subplots.AxesSubplot at 0x1ddc3d4dfd0>"
      ]
     },
     "execution_count": 220,
     "metadata": {},
     "output_type": "execute_result"
    },
    {
     "data": {
      "image/png": "[encoded data removed]",
      "text/plain": [
       "<Figure size 1440x720 with 1 Axes>"
      ]
     },
     "metadata": {
      "needs_background": "light"
     },
     "output_type": "display_data"
    }
   ],
   "source": [
    "cifrasanuales.plot.bar(x='Año', y='Turismo', figsize=(20,10), grid=True, colormap='Paired')"
   ]
  },
  {
   "cell_type": "markdown",
   "metadata": {},
   "source": [
    "# Demás motivos"
   ]
  },
  {
   "cell_type": "code",
   "execution_count": 221,
   "metadata": {},
   "outputs": [
    {
     "data": {
      "text/plain": [
       "array([<matplotlib.axes._subplots.AxesSubplot object at 0x000001DDB893A9B0>,\n",
       "       <matplotlib.axes._subplots.AxesSubplot object at 0x000001DDB85293C8>,\n",
       "       <matplotlib.axes._subplots.AxesSubplot object at 0x000001DDB84F33C8>,\n",
       "       <matplotlib.axes._subplots.AxesSubplot object at 0x000001DDC45DFC18>,\n",
       "       <matplotlib.axes._subplots.AxesSubplot object at 0x000001DDB81BDEF0>],\n",
       "      dtype=object)"
      ]
     },
     "execution_count": 221,
     "metadata": {},
     "output_type": "execute_result"
    },
    {
     "data": {
      "image/png": "[encoded data removed]",
      "text/plain": [
       "<Figure size 1440x1440 with 5 Axes>"
      ]
     },
     "metadata": {
      "needs_background": "light"
     },
     "output_type": "display_data"
    }
   ],
   "source": [
    "cifrasanuales.plot.bar(x='Año', y=['Negocio', 'Privado', 'Tránsito',\n",
    "       'Cambio de residencia permanente', 'Asistentes de vehículos'], figsize=(20,20), grid=True, colormap='Paired', subplots=True, sharey=True)"
   ]
  },
  {
   "cell_type": "markdown",
   "metadata": {},
   "source": [
    "# Datos según vía de entrada"
   ]
  },
  {
   "cell_type": "code",
   "execution_count": 222,
   "metadata": {},
   "outputs": [],
   "source": [
    "viadeentrada = pd.read_csv('Cubanos en Rusia para El Toque - via entrada.csv')"
   ]
  },
  {
   "cell_type": "code",
   "execution_count": 223,
   "metadata": {},
   "outputs": [],
   "source": [
    "viadeentrada['Trimestres'] = viadeentrada['Año'].map(str) + cubanosRusia['Trimestre']"
   ]
  },
  {
   "cell_type": "code",
   "execution_count": 224,
   "metadata": {},
   "outputs": [
    {
     "data": {
      "text/plain": [
       "Index(['Año', 'Trimestre', 'Vehículo', 'Aerea', 'Ferrocarril', 'Marítima',\n",
       "       'A pie', 'Total', 'Trimestres'],\n",
       "      dtype='object')"
      ]
     },
     "execution_count": 224,
     "metadata": {},
     "output_type": "execute_result"
    }
   ],
   "source": [
    "viadeentrada.columns"
   ]
  },
  {
   "cell_type": "code",
   "execution_count": 225,
   "metadata": {},
   "outputs": [
    {
     "data": {
      "text/html": [
       "<div>\n",
       "<style scoped>\n",
       "    .dataframe tbody tr th:only-of-type {\n",
       "        vertical-align: middle;\n",
       "    }\n",
       "\n",
       "    .dataframe tbody tr th {\n",
       "        vertical-align: top;\n",
       "    }\n",
       "\n",
       "    .dataframe thead th {\n",
       "        text-align: right;\n",
       "    }\n",
       "</style>\n",
       "<table border=\"1\" class=\"dataframe\">\n",
       "  <thead>\n",
       "    <tr style=\"text-align: right;\">\n",
       "      <th></th>\n",
       "      <th>Año</th>\n",
       "      <th>Trimestre</th>\n",
       "      <th>Vehículo</th>\n",
       "      <th>Aerea</th>\n",
       "      <th>Ferrocarril</th>\n",
       "      <th>Marítima</th>\n",
       "      <th>A pie</th>\n",
       "      <th>Total</th>\n",
       "      <th>Trimestres</th>\n",
       "    </tr>\n",
       "  </thead>\n",
       "  <tbody>\n",
       "    <tr>\n",
       "      <th>0</th>\n",
       "      <td>2010</td>\n",
       "      <td>T1</td>\n",
       "      <td>21</td>\n",
       "      <td>550</td>\n",
       "      <td>47</td>\n",
       "      <td>87</td>\n",
       "      <td>0</td>\n",
       "      <td>705</td>\n",
       "      <td>2010T1</td>\n",
       "    </tr>\n",
       "    <tr>\n",
       "      <th>1</th>\n",
       "      <td>2010</td>\n",
       "      <td>T2</td>\n",
       "      <td>39</td>\n",
       "      <td>932</td>\n",
       "      <td>22</td>\n",
       "      <td>108</td>\n",
       "      <td>0</td>\n",
       "      <td>1101</td>\n",
       "      <td>2010T2</td>\n",
       "    </tr>\n",
       "    <tr>\n",
       "      <th>2</th>\n",
       "      <td>2010</td>\n",
       "      <td>T3</td>\n",
       "      <td>41</td>\n",
       "      <td>1025</td>\n",
       "      <td>35</td>\n",
       "      <td>105</td>\n",
       "      <td>0</td>\n",
       "      <td>1206</td>\n",
       "      <td>2010T3</td>\n",
       "    </tr>\n",
       "    <tr>\n",
       "      <th>3</th>\n",
       "      <td>2010</td>\n",
       "      <td>T4</td>\n",
       "      <td>38</td>\n",
       "      <td>946</td>\n",
       "      <td>24</td>\n",
       "      <td>33</td>\n",
       "      <td>0</td>\n",
       "      <td>1041</td>\n",
       "      <td>2010T4</td>\n",
       "    </tr>\n",
       "    <tr>\n",
       "      <th>4</th>\n",
       "      <td>2011</td>\n",
       "      <td>T1</td>\n",
       "      <td>34</td>\n",
       "      <td>636</td>\n",
       "      <td>22</td>\n",
       "      <td>5</td>\n",
       "      <td>0</td>\n",
       "      <td>697</td>\n",
       "      <td>2011T1</td>\n",
       "    </tr>\n",
       "    <tr>\n",
       "      <th>5</th>\n",
       "      <td>2011</td>\n",
       "      <td>T2</td>\n",
       "      <td>52</td>\n",
       "      <td>852</td>\n",
       "      <td>30</td>\n",
       "      <td>162</td>\n",
       "      <td>0</td>\n",
       "      <td>1096</td>\n",
       "      <td>2011T2</td>\n",
       "    </tr>\n",
       "    <tr>\n",
       "      <th>6</th>\n",
       "      <td>2011</td>\n",
       "      <td>T3</td>\n",
       "      <td>69</td>\n",
       "      <td>928</td>\n",
       "      <td>30</td>\n",
       "      <td>200</td>\n",
       "      <td>0</td>\n",
       "      <td>1227</td>\n",
       "      <td>2011T3</td>\n",
       "    </tr>\n",
       "    <tr>\n",
       "      <th>7</th>\n",
       "      <td>2011</td>\n",
       "      <td>T4</td>\n",
       "      <td>71</td>\n",
       "      <td>913</td>\n",
       "      <td>26</td>\n",
       "      <td>68</td>\n",
       "      <td>1</td>\n",
       "      <td>1079</td>\n",
       "      <td>2011T4</td>\n",
       "    </tr>\n",
       "    <tr>\n",
       "      <th>8</th>\n",
       "      <td>2012</td>\n",
       "      <td>T1</td>\n",
       "      <td>39</td>\n",
       "      <td>815</td>\n",
       "      <td>24</td>\n",
       "      <td>39</td>\n",
       "      <td>0</td>\n",
       "      <td>917</td>\n",
       "      <td>2012T1</td>\n",
       "    </tr>\n",
       "    <tr>\n",
       "      <th>9</th>\n",
       "      <td>2012</td>\n",
       "      <td>T2</td>\n",
       "      <td>30</td>\n",
       "      <td>1251</td>\n",
       "      <td>28</td>\n",
       "      <td>106</td>\n",
       "      <td>2</td>\n",
       "      <td>1417</td>\n",
       "      <td>2012T2</td>\n",
       "    </tr>\n",
       "    <tr>\n",
       "      <th>10</th>\n",
       "      <td>2012</td>\n",
       "      <td>T3</td>\n",
       "      <td>54</td>\n",
       "      <td>1376</td>\n",
       "      <td>50</td>\n",
       "      <td>71</td>\n",
       "      <td>1</td>\n",
       "      <td>1552</td>\n",
       "      <td>2012T3</td>\n",
       "    </tr>\n",
       "    <tr>\n",
       "      <th>11</th>\n",
       "      <td>2012</td>\n",
       "      <td>T4</td>\n",
       "      <td>41</td>\n",
       "      <td>1143</td>\n",
       "      <td>40</td>\n",
       "      <td>129</td>\n",
       "      <td>0</td>\n",
       "      <td>1353</td>\n",
       "      <td>2012T4</td>\n",
       "    </tr>\n",
       "    <tr>\n",
       "      <th>12</th>\n",
       "      <td>2013</td>\n",
       "      <td>T1</td>\n",
       "      <td>39</td>\n",
       "      <td>1352</td>\n",
       "      <td>37</td>\n",
       "      <td>127</td>\n",
       "      <td>0</td>\n",
       "      <td>1555</td>\n",
       "      <td>2013T1</td>\n",
       "    </tr>\n",
       "    <tr>\n",
       "      <th>13</th>\n",
       "      <td>2013</td>\n",
       "      <td>T2</td>\n",
       "      <td>41</td>\n",
       "      <td>2053</td>\n",
       "      <td>43</td>\n",
       "      <td>146</td>\n",
       "      <td>2</td>\n",
       "      <td>2285</td>\n",
       "      <td>2013T2</td>\n",
       "    </tr>\n",
       "    <tr>\n",
       "      <th>14</th>\n",
       "      <td>2013</td>\n",
       "      <td>T3</td>\n",
       "      <td>66</td>\n",
       "      <td>2420</td>\n",
       "      <td>30</td>\n",
       "      <td>432</td>\n",
       "      <td>3</td>\n",
       "      <td>2951</td>\n",
       "      <td>2013T3</td>\n",
       "    </tr>\n",
       "    <tr>\n",
       "      <th>15</th>\n",
       "      <td>2013</td>\n",
       "      <td>T4</td>\n",
       "      <td>92</td>\n",
       "      <td>2306</td>\n",
       "      <td>34</td>\n",
       "      <td>395</td>\n",
       "      <td>7</td>\n",
       "      <td>2834</td>\n",
       "      <td>2013T4</td>\n",
       "    </tr>\n",
       "    <tr>\n",
       "      <th>16</th>\n",
       "      <td>2014</td>\n",
       "      <td>T1</td>\n",
       "      <td>64</td>\n",
       "      <td>2099</td>\n",
       "      <td>32</td>\n",
       "      <td>148</td>\n",
       "      <td>10</td>\n",
       "      <td>2353</td>\n",
       "      <td>2014T1</td>\n",
       "    </tr>\n",
       "    <tr>\n",
       "      <th>17</th>\n",
       "      <td>2014</td>\n",
       "      <td>T2</td>\n",
       "      <td>83</td>\n",
       "      <td>2810</td>\n",
       "      <td>20</td>\n",
       "      <td>347</td>\n",
       "      <td>2</td>\n",
       "      <td>3262</td>\n",
       "      <td>2014T2</td>\n",
       "    </tr>\n",
       "    <tr>\n",
       "      <th>18</th>\n",
       "      <td>2014</td>\n",
       "      <td>T3</td>\n",
       "      <td>92</td>\n",
       "      <td>2932</td>\n",
       "      <td>24</td>\n",
       "      <td>340</td>\n",
       "      <td>4</td>\n",
       "      <td>3392</td>\n",
       "      <td>2014T3</td>\n",
       "    </tr>\n",
       "    <tr>\n",
       "      <th>19</th>\n",
       "      <td>2014</td>\n",
       "      <td>T4</td>\n",
       "      <td>80</td>\n",
       "      <td>2273</td>\n",
       "      <td>26</td>\n",
       "      <td>215</td>\n",
       "      <td>8</td>\n",
       "      <td>2602</td>\n",
       "      <td>2014T4</td>\n",
       "    </tr>\n",
       "    <tr>\n",
       "      <th>20</th>\n",
       "      <td>2015</td>\n",
       "      <td>T1</td>\n",
       "      <td>57</td>\n",
       "      <td>1947</td>\n",
       "      <td>12</td>\n",
       "      <td>48</td>\n",
       "      <td>2</td>\n",
       "      <td>2066</td>\n",
       "      <td>2015T1</td>\n",
       "    </tr>\n",
       "    <tr>\n",
       "      <th>21</th>\n",
       "      <td>2015</td>\n",
       "      <td>T2</td>\n",
       "      <td>53</td>\n",
       "      <td>3160</td>\n",
       "      <td>9</td>\n",
       "      <td>59</td>\n",
       "      <td>8</td>\n",
       "      <td>3289</td>\n",
       "      <td>2015T2</td>\n",
       "    </tr>\n",
       "    <tr>\n",
       "      <th>22</th>\n",
       "      <td>2015</td>\n",
       "      <td>T3</td>\n",
       "      <td>85</td>\n",
       "      <td>3325</td>\n",
       "      <td>11</td>\n",
       "      <td>37</td>\n",
       "      <td>15</td>\n",
       "      <td>3473</td>\n",
       "      <td>2015T3</td>\n",
       "    </tr>\n",
       "    <tr>\n",
       "      <th>23</th>\n",
       "      <td>2015</td>\n",
       "      <td>T4</td>\n",
       "      <td>62</td>\n",
       "      <td>3368</td>\n",
       "      <td>16</td>\n",
       "      <td>50</td>\n",
       "      <td>25</td>\n",
       "      <td>3521</td>\n",
       "      <td>2015T4</td>\n",
       "    </tr>\n",
       "    <tr>\n",
       "      <th>24</th>\n",
       "      <td>2016</td>\n",
       "      <td>T1</td>\n",
       "      <td>48</td>\n",
       "      <td>4411</td>\n",
       "      <td>18</td>\n",
       "      <td>69</td>\n",
       "      <td>5</td>\n",
       "      <td>4551</td>\n",
       "      <td>2016T1</td>\n",
       "    </tr>\n",
       "    <tr>\n",
       "      <th>25</th>\n",
       "      <td>2016</td>\n",
       "      <td>T2</td>\n",
       "      <td>51</td>\n",
       "      <td>8752</td>\n",
       "      <td>21</td>\n",
       "      <td>122</td>\n",
       "      <td>7</td>\n",
       "      <td>8953</td>\n",
       "      <td>2016T2</td>\n",
       "    </tr>\n",
       "    <tr>\n",
       "      <th>26</th>\n",
       "      <td>2016</td>\n",
       "      <td>T3</td>\n",
       "      <td>83</td>\n",
       "      <td>6208</td>\n",
       "      <td>22</td>\n",
       "      <td>134</td>\n",
       "      <td>9</td>\n",
       "      <td>6456</td>\n",
       "      <td>2016T3</td>\n",
       "    </tr>\n",
       "    <tr>\n",
       "      <th>27</th>\n",
       "      <td>2016</td>\n",
       "      <td>T4</td>\n",
       "      <td>76</td>\n",
       "      <td>6583</td>\n",
       "      <td>16</td>\n",
       "      <td>24</td>\n",
       "      <td>8</td>\n",
       "      <td>6707</td>\n",
       "      <td>2016T4</td>\n",
       "    </tr>\n",
       "    <tr>\n",
       "      <th>28</th>\n",
       "      <td>2017</td>\n",
       "      <td>T1</td>\n",
       "      <td>87</td>\n",
       "      <td>5424</td>\n",
       "      <td>16</td>\n",
       "      <td>47</td>\n",
       "      <td>16</td>\n",
       "      <td>5590</td>\n",
       "      <td>2017T1</td>\n",
       "    </tr>\n",
       "    <tr>\n",
       "      <th>29</th>\n",
       "      <td>2017</td>\n",
       "      <td>T2</td>\n",
       "      <td>67</td>\n",
       "      <td>8688</td>\n",
       "      <td>10</td>\n",
       "      <td>49</td>\n",
       "      <td>15</td>\n",
       "      <td>8829</td>\n",
       "      <td>2017T2</td>\n",
       "    </tr>\n",
       "    <tr>\n",
       "      <th>30</th>\n",
       "      <td>2017</td>\n",
       "      <td>T3</td>\n",
       "      <td>95</td>\n",
       "      <td>7965</td>\n",
       "      <td>18</td>\n",
       "      <td>52</td>\n",
       "      <td>5</td>\n",
       "      <td>8135</td>\n",
       "      <td>2017T3</td>\n",
       "    </tr>\n",
       "    <tr>\n",
       "      <th>31</th>\n",
       "      <td>2017</td>\n",
       "      <td>T4</td>\n",
       "      <td>76</td>\n",
       "      <td>8027</td>\n",
       "      <td>22</td>\n",
       "      <td>28</td>\n",
       "      <td>4</td>\n",
       "      <td>8157</td>\n",
       "      <td>2017T4</td>\n",
       "    </tr>\n",
       "    <tr>\n",
       "      <th>32</th>\n",
       "      <td>2018</td>\n",
       "      <td>T1</td>\n",
       "      <td>39</td>\n",
       "      <td>5295</td>\n",
       "      <td>13</td>\n",
       "      <td>51</td>\n",
       "      <td>5</td>\n",
       "      <td>5403</td>\n",
       "      <td>2018T1</td>\n",
       "    </tr>\n",
       "    <tr>\n",
       "      <th>33</th>\n",
       "      <td>2018</td>\n",
       "      <td>T2</td>\n",
       "      <td>67</td>\n",
       "      <td>6740</td>\n",
       "      <td>14</td>\n",
       "      <td>142</td>\n",
       "      <td>8</td>\n",
       "      <td>6971</td>\n",
       "      <td>2018T2</td>\n",
       "    </tr>\n",
       "    <tr>\n",
       "      <th>34</th>\n",
       "      <td>2018</td>\n",
       "      <td>T3</td>\n",
       "      <td>75</td>\n",
       "      <td>7397</td>\n",
       "      <td>19</td>\n",
       "      <td>76</td>\n",
       "      <td>8</td>\n",
       "      <td>7575</td>\n",
       "      <td>2018T3</td>\n",
       "    </tr>\n",
       "    <tr>\n",
       "      <th>35</th>\n",
       "      <td>2018</td>\n",
       "      <td>T4</td>\n",
       "      <td>62</td>\n",
       "      <td>7803</td>\n",
       "      <td>15</td>\n",
       "      <td>45</td>\n",
       "      <td>8</td>\n",
       "      <td>7933</td>\n",
       "      <td>2018T4</td>\n",
       "    </tr>\n",
       "  </tbody>\n",
       "</table>\n",
       "</div>"
      ],
      "text/plain": [
       "     Año Trimestre  Vehículo  Aerea  Ferrocarril  Marítima  A pie  Total  \\\n",
       "0   2010        T1        21    550           47        87      0    705   \n",
       "1   2010        T2        39    932           22       108      0   1101   \n",
       "2   2010        T3        41   1025           35       105      0   1206   \n",
       "3   2010        T4        38    946           24        33      0   1041   \n",
       "4   2011        T1        34    636           22         5      0    697   \n",
       "5   2011        T2        52    852           30       162      0   1096   \n",
       "6   2011        T3        69    928           30       200      0   1227   \n",
       "7   2011        T4        71    913           26        68      1   1079   \n",
       "8   2012        T1        39    815           24        39      0    917   \n",
       "9   2012        T2        30   1251           28       106      2   1417   \n",
       "10  2012        T3        54   1376           50        71      1   1552   \n",
       "11  2012        T4        41   1143           40       129      0   1353   \n",
       "12  2013        T1        39   1352           37       127      0   1555   \n",
       "13  2013        T2        41   2053           43       146      2   2285   \n",
       "14  2013        T3        66   2420           30       432      3   2951   \n",
       "15  2013        T4        92   2306           34       395      7   2834   \n",
       "16  2014        T1        64   2099           32       148     10   2353   \n",
       "17  2014        T2        83   2810           20       347      2   3262   \n",
       "18  2014        T3        92   2932           24       340      4   3392   \n",
       "19  2014        T4        80   2273           26       215      8   2602   \n",
       "20  2015        T1        57   1947           12        48      2   2066   \n",
       "21  2015        T2        53   3160            9        59      8   3289   \n",
       "22  2015        T3        85   3325           11        37     15   3473   \n",
       "23  2015        T4        62   3368           16        50     25   3521   \n",
       "24  2016        T1        48   4411           18        69      5   4551   \n",
       "25  2016        T2        51   8752           21       122      7   8953   \n",
       "26  2016        T3        83   6208           22       134      9   6456   \n",
       "27  2016        T4        76   6583           16        24      8   6707   \n",
       "28  2017        T1        87   5424           16        47     16   5590   \n",
       "29  2017        T2        67   8688           10        49     15   8829   \n",
       "30  2017        T3        95   7965           18        52      5   8135   \n",
       "31  2017        T4        76   8027           22        28      4   8157   \n",
       "32  2018        T1        39   5295           13        51      5   5403   \n",
       "33  2018        T2        67   6740           14       142      8   6971   \n",
       "34  2018        T3        75   7397           19        76      8   7575   \n",
       "35  2018        T4        62   7803           15        45      8   7933   \n",
       "\n",
       "   Trimestres  \n",
       "0      2010T1  \n",
       "1      2010T2  \n",
       "2      2010T3  \n",
       "3      2010T4  \n",
       "4      2011T1  \n",
       "5      2011T2  \n",
       "6      2011T3  \n",
       "7      2011T4  \n",
       "8      2012T1  \n",
       "9      2012T2  \n",
       "10     2012T3  \n",
       "11     2012T4  \n",
       "12     2013T1  \n",
       "13     2013T2  \n",
       "14     2013T3  \n",
       "15     2013T4  \n",
       "16     2014T1  \n",
       "17     2014T2  \n",
       "18     2014T3  \n",
       "19     2014T4  \n",
       "20     2015T1  \n",
       "21     2015T2  \n",
       "22     2015T3  \n",
       "23     2015T4  \n",
       "24     2016T1  \n",
       "25     2016T2  \n",
       "26     2016T3  \n",
       "27     2016T4  \n",
       "28     2017T1  \n",
       "29     2017T2  \n",
       "30     2017T3  \n",
       "31     2017T4  \n",
       "32     2018T1  \n",
       "33     2018T2  \n",
       "34     2018T3  \n",
       "35     2018T4  "
      ]
     },
     "execution_count": 225,
     "metadata": {},
     "output_type": "execute_result"
    }
   ],
   "source": [
    "viadeentrada"
   ]
  },
  {
   "cell_type": "markdown",
   "metadata": {},
   "source": [
    "# Cifras trimestrales"
   ]
  },
  {
   "cell_type": "markdown",
   "metadata": {},
   "source": [
    "## Por vía aérea (la más común)"
   ]
  },
  {
   "cell_type": "code",
   "execution_count": 226,
   "metadata": {},
   "outputs": [
    {
     "data": {
      "text/plain": [
       "<matplotlib.axes._subplots.AxesSubplot at 0x1ddb8d715f8>"
      ]
     },
     "execution_count": 226,
     "metadata": {},
     "output_type": "execute_result"
    },
    {
     "data": {
      "image/png": "[encoded data removed]",
      "text/plain": [
       "<Figure size 1440x720 with 1 Axes>"
      ]
     },
     "metadata": {
      "needs_background": "light"
     },
     "output_type": "display_data"
    }
   ],
   "source": [
    "viadeentrada.plot.bar(x='Trimestres', y='Aerea', figsize=(20,10), grid=True, colormap='Paired')"
   ]
  },
  {
   "cell_type": "markdown",
   "metadata": {},
   "source": [
    "## Por el resto de las vías"
   ]
  },
  {
   "cell_type": "code",
   "execution_count": 227,
   "metadata": {},
   "outputs": [
    {
     "data": {
      "text/plain": [
       "array([<matplotlib.axes._subplots.AxesSubplot object at 0x000001DDB8F10D30>,\n",
       "       <matplotlib.axes._subplots.AxesSubplot object at 0x000001DDB8F488D0>,\n",
       "       <matplotlib.axes._subplots.AxesSubplot object at 0x000001DDB8F71B70>,\n",
       "       <matplotlib.axes._subplots.AxesSubplot object at 0x000001DDB8F97E48>],\n",
       "      dtype=object)"
      ]
     },
     "execution_count": 227,
     "metadata": {},
     "output_type": "execute_result"
    },
    {
     "data": {
      "image/png": "[encoded data removed]",
      "text/plain": [
       "<Figure size 1440x1440 with 4 Axes>"
      ]
     },
     "metadata": {
      "needs_background": "light"
     },
     "output_type": "display_data"
    }
   ],
   "source": [
    "viadeentrada.plot.bar(x='Trimestres', y=['Vehículo', 'Ferrocarril', 'Marítima',\n",
    "       'A pie'], figsize=(20,20), grid=True, colormap='Paired', subplots=True, sharey=True)"
   ]
  },
  {
   "cell_type": "markdown",
   "metadata": {},
   "source": [
    "## Cifras anuales"
   ]
  },
  {
   "cell_type": "code",
   "execution_count": 228,
   "metadata": {},
   "outputs": [
    {
     "data": {
      "text/plain": [
       "Index(['Año', 'Trimestre', 'Vehículo', 'Aerea', 'Ferrocarril', 'Marítima',\n",
       "       'A pie', 'Total', 'Trimestres'],\n",
       "      dtype='object')"
      ]
     },
     "execution_count": 228,
     "metadata": {},
     "output_type": "execute_result"
    }
   ],
   "source": [
    "viadeentrada.columns"
   ]
  },
  {
   "cell_type": "code",
   "execution_count": 229,
   "metadata": {},
   "outputs": [],
   "source": [
    "viadeentradaAnual = viadeentrada.pivot_table(index='Año', values = ('Vehículo', 'Aerea', 'Ferrocarril', 'Marítima',\n",
    "       'A pie', 'Total'), aggfunc = ['sum'])"
   ]
  },
  {
   "cell_type": "code",
   "execution_count": 230,
   "metadata": {},
   "outputs": [],
   "source": [
    "viadeentradaAnual['Año'] = viadeentradaAnual.index"
   ]
  },
  {
   "cell_type": "code",
   "execution_count": 231,
   "metadata": {},
   "outputs": [
    {
     "data": {
      "text/html": [
       "<div>\n",
       "<style scoped>\n",
       "    .dataframe tbody tr th:only-of-type {\n",
       "        vertical-align: middle;\n",
       "    }\n",
       "\n",
       "    .dataframe tbody tr th {\n",
       "        vertical-align: top;\n",
       "    }\n",
       "\n",
       "    .dataframe thead tr th {\n",
       "        text-align: left;\n",
       "    }\n",
       "\n",
       "    .dataframe thead tr:last-of-type th {\n",
       "        text-align: right;\n",
       "    }\n",
       "</style>\n",
       "<table border=\"1\" class=\"dataframe\">\n",
       "  <thead>\n",
       "    <tr>\n",
       "      <th></th>\n",
       "      <th colspan=\"6\" halign=\"left\">sum</th>\n",
       "      <th>Año</th>\n",
       "    </tr>\n",
       "    <tr>\n",
       "      <th></th>\n",
       "      <th>A pie</th>\n",
       "      <th>Aerea</th>\n",
       "      <th>Ferrocarril</th>\n",
       "      <th>Marítima</th>\n",
       "      <th>Total</th>\n",
       "      <th>Vehículo</th>\n",
       "      <th></th>\n",
       "    </tr>\n",
       "    <tr>\n",
       "      <th>Año</th>\n",
       "      <th></th>\n",
       "      <th></th>\n",
       "      <th></th>\n",
       "      <th></th>\n",
       "      <th></th>\n",
       "      <th></th>\n",
       "      <th></th>\n",
       "    </tr>\n",
       "  </thead>\n",
       "  <tbody>\n",
       "    <tr>\n",
       "      <th>2010</th>\n",
       "      <td>0</td>\n",
       "      <td>3453</td>\n",
       "      <td>128</td>\n",
       "      <td>333</td>\n",
       "      <td>4053</td>\n",
       "      <td>139</td>\n",
       "      <td>2010</td>\n",
       "    </tr>\n",
       "    <tr>\n",
       "      <th>2011</th>\n",
       "      <td>1</td>\n",
       "      <td>3329</td>\n",
       "      <td>108</td>\n",
       "      <td>435</td>\n",
       "      <td>4099</td>\n",
       "      <td>226</td>\n",
       "      <td>2011</td>\n",
       "    </tr>\n",
       "    <tr>\n",
       "      <th>2012</th>\n",
       "      <td>3</td>\n",
       "      <td>4585</td>\n",
       "      <td>142</td>\n",
       "      <td>345</td>\n",
       "      <td>5239</td>\n",
       "      <td>164</td>\n",
       "      <td>2012</td>\n",
       "    </tr>\n",
       "    <tr>\n",
       "      <th>2013</th>\n",
       "      <td>12</td>\n",
       "      <td>8131</td>\n",
       "      <td>144</td>\n",
       "      <td>1100</td>\n",
       "      <td>9625</td>\n",
       "      <td>238</td>\n",
       "      <td>2013</td>\n",
       "    </tr>\n",
       "    <tr>\n",
       "      <th>2014</th>\n",
       "      <td>24</td>\n",
       "      <td>10114</td>\n",
       "      <td>102</td>\n",
       "      <td>1050</td>\n",
       "      <td>11609</td>\n",
       "      <td>319</td>\n",
       "      <td>2014</td>\n",
       "    </tr>\n",
       "    <tr>\n",
       "      <th>2015</th>\n",
       "      <td>50</td>\n",
       "      <td>11800</td>\n",
       "      <td>48</td>\n",
       "      <td>194</td>\n",
       "      <td>12349</td>\n",
       "      <td>257</td>\n",
       "      <td>2015</td>\n",
       "    </tr>\n",
       "    <tr>\n",
       "      <th>2016</th>\n",
       "      <td>29</td>\n",
       "      <td>25954</td>\n",
       "      <td>77</td>\n",
       "      <td>349</td>\n",
       "      <td>26667</td>\n",
       "      <td>258</td>\n",
       "      <td>2016</td>\n",
       "    </tr>\n",
       "    <tr>\n",
       "      <th>2017</th>\n",
       "      <td>40</td>\n",
       "      <td>30104</td>\n",
       "      <td>66</td>\n",
       "      <td>176</td>\n",
       "      <td>30711</td>\n",
       "      <td>325</td>\n",
       "      <td>2017</td>\n",
       "    </tr>\n",
       "    <tr>\n",
       "      <th>2018</th>\n",
       "      <td>29</td>\n",
       "      <td>27235</td>\n",
       "      <td>61</td>\n",
       "      <td>314</td>\n",
       "      <td>27882</td>\n",
       "      <td>243</td>\n",
       "      <td>2018</td>\n",
       "    </tr>\n",
       "  </tbody>\n",
       "</table>\n",
       "</div>"
      ],
      "text/plain": [
       "       sum                                               Año\n",
       "     A pie  Aerea Ferrocarril Marítima  Total Vehículo      \n",
       "Año                                                         \n",
       "2010     0   3453         128      333   4053      139  2010\n",
       "2011     1   3329         108      435   4099      226  2011\n",
       "2012     3   4585         142      345   5239      164  2012\n",
       "2013    12   8131         144     1100   9625      238  2013\n",
       "2014    24  10114         102     1050  11609      319  2014\n",
       "2015    50  11800          48      194  12349      257  2015\n",
       "2016    29  25954          77      349  26667      258  2016\n",
       "2017    40  30104          66      176  30711      325  2017\n",
       "2018    29  27235          61      314  27882      243  2018"
      ]
     },
     "execution_count": 231,
     "metadata": {},
     "output_type": "execute_result"
    }
   ],
   "source": [
    "viadeentradaAnual"
   ]
  },
  {
   "cell_type": "code",
   "execution_count": 232,
   "metadata": {},
   "outputs": [],
   "source": [
    "viadeentradaAnual.columns = ['A pie', 'Aerea', 'Ferrocarril', 'Marítima', 'Total', 'Vehículo', 'Año']"
   ]
  },
  {
   "cell_type": "markdown",
   "metadata": {},
   "source": [
    "## Todas"
   ]
  },
  {
   "cell_type": "code",
   "execution_count": 233,
   "metadata": {},
   "outputs": [
    {
     "data": {
      "text/plain": [
       "<matplotlib.axes._subplots.AxesSubplot at 0x1ddb91361d0>"
      ]
     },
     "execution_count": 233,
     "metadata": {},
     "output_type": "execute_result"
    },
    {
     "data": {
      "image/png": "[encoded data removed]",
      "text/plain": [
       "<Figure size 1440x720 with 1 Axes>"
      ]
     },
     "metadata": {
      "needs_background": "light"
     },
     "output_type": "display_data"
    }
   ],
   "source": [
    "viadeentradaAnual.plot.bar(x='Año', y=['Vehículo', 'Aerea', 'Ferrocarril', 'Marítima',\n",
    "       'A pie' ], figsize=(20,10), grid=True, colormap='Paired', stacked= True)"
   ]
  },
  {
   "cell_type": "code",
   "execution_count": 234,
   "metadata": {},
   "outputs": [
    {
     "data": {
      "text/plain": [
       "<matplotlib.axes._subplots.AxesSubplot at 0x1ddc40dad68>"
      ]
     },
     "execution_count": 234,
     "metadata": {},
     "output_type": "execute_result"
    },
    {
     "data": {
      "image/png": "[encoded data removed]",
      "text/plain": [
       "<Figure size 1440x720 with 1 Axes>"
      ]
     },
     "metadata": {
      "needs_background": "light"
     },
     "output_type": "display_data"
    }
   ],
   "source": [
    "viadeentradaAnual.plot.bar(x='Año', y=['Aerea'], figsize=(20,10), grid=True, colormap='Paired')"
   ]
  },
  {
   "cell_type": "markdown",
   "metadata": {},
   "source": [
    "## Todas las demás"
   ]
  },
  {
   "cell_type": "code",
   "execution_count": 235,
   "metadata": {},
   "outputs": [
    {
     "data": {
      "text/plain": [
       "array([<matplotlib.axes._subplots.AxesSubplot object at 0x000001DDC411FE80>,\n",
       "       <matplotlib.axes._subplots.AxesSubplot object at 0x000001DDC5140E10>,\n",
       "       <matplotlib.axes._subplots.AxesSubplot object at 0x000001DDC5171080>,\n",
       "       <matplotlib.axes._subplots.AxesSubplot object at 0x000001DDC5198358>],\n",
       "      dtype=object)"
      ]
     },
     "execution_count": 235,
     "metadata": {},
     "output_type": "execute_result"
    },
    {
     "data": {
      "image/png": "[encoded data removed]",
      "text/plain": [
       "<Figure size 720x1440 with 4 Axes>"
      ]
     },
     "metadata": {
      "needs_background": "light"
     },
     "output_type": "display_data"
    }
   ],
   "source": [
    "viadeentradaAnual.plot.bar(x='Año', y=['Vehículo', 'Ferrocarril', 'Marítima',\n",
    "       'A pie' ], figsize=(10,20), grid=True, colormap='Paired', subplots=True, sharey=True)"
   ]
  },
  {
   "cell_type": "markdown",
   "metadata": {},
   "source": [
    "# Notas de interés"
   ]
  },
  {
   "cell_type": "markdown",
   "metadata": {},
   "source": [
    "Esta otra fuente fija el número de cubanos que entraron a Rusia en 2017 en **26.059**:\n",
    "\n",
    "http://opendata.russiatourism.ru/7708550300-entryofforeign/2\n",
    "\n",
    "\n",
    "El total de 2017 en la fuente de arriba (la de los gráficos) es 30.711.\n",
    "\n",
    "Pero nada más contiene información completa de ese año, no está el resto de los años para comparar. Que este total de 2017 sea más bajo que el de la fuente citada arriba podría ser por la unificación de otra fuente en la de arriba, o por alguna discrepancia al registrar el total. "
   ]
  },
  {
   "cell_type": "markdown",
   "metadata": {},
   "source": [
    "# Datos en un sitio no oficial que cita estadísticas oficiales\n",
    "\n",
    "\n"
   ]
  },
  {
   "cell_type": "markdown",
   "metadata": {},
   "source": [
    "Esta es otra fuente que maneja cifras diferente\n",
    "https://www.ceicdata.com/en/russia/visitor-arrivals-by-purpose-and-country-ytd?page=3\n",
    "\n",
    "Sus datos incluyen 12 puntos de datos. Estos:"
   ]
  },
  {
   "cell_type": "markdown",
   "metadata": {},
   "source": [
    "|Cuatrimestre      | Cubanos          | \n",
    "| ------------- |:-------------:| \n",
    "|Apr 2015|\t1936|\n",
    "|Jul 2015|\t5072|\n",
    "|Oct 2015|\t8473|\n",
    "|Jan 2016|\t11884|\n",
    "|Apr 2016|\t4412|\n",
    "|Jul 2016|\t13209|\n",
    "|Oct 2016|\t19511|\n",
    "|Jan 2017|\t26059|\n",
    "|Apr 2017|\t5126|\n",
    "|Jul 2017|\t14000|\n",
    "|Oct 2017|\t22000|\n",
    "|Jan 2018|\t29000|"
   ]
  },
  {
   "cell_type": "code",
   "execution_count": null,
   "metadata": {},
   "outputs": [],
   "source": [
    "Este es el gráfico de esos datos publicado por ellos."
   ]
  },
  {
   "cell_type": "markdown",
   "metadata": {},
   "source": [
    "![alt text](https://proyectoinventario.org/wp-content/uploads/Screenshot_2019-06-06-Russia-Visitor-Arrivals-by-Purpose-and-Country-ytd.png)"
   ]
  }
 ],
 "metadata": {
  "kernelspec": {
   "display_name": "Python 3",
   "language": "python",
   "name": "python3"
  },
  "language_info": {
   "codemirror_mode": {
    "name": "ipython",
    "version": 3
   },
   "file_extension": ".py",
   "mimetype": "text/x-python",
   "name": "python",
   "nbconvert_exporter": "python",
   "pygments_lexer": "ipython3",
   "version": "3.7.1"
  }
 },
 "nbformat": 4,
 "nbformat_minor": 2
}
